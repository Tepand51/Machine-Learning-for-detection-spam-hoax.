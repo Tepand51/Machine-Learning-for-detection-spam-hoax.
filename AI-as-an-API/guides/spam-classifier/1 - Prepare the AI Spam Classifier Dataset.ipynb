{
 "cells": [
  {
   "cell_type": "markdown",
   "id": "7a5e845c",
   "metadata": {},
   "source": [
    "# Prepare the AI Spam Classifier Dataset\n",
    "We'll be combining 2 open source datasets curated by [The University of California, Irvine (UCI)](https://archive.ics.uci.edu):\n",
    "\n",
    "- Spam SMS ([source](https://archive.ics.uci.edu/ml/datasets/sms+spam+collection))\n",
    "- YouTube Spam ([source](https://archive.ics.uci.edu/ml/datasets/YouTube+Spam+Collection))\n",
    "\n",
    "\n",
    "#### Requirements\n",
    "- Python\n",
    "- Jupyter (Setup with [this video](https://www.youtube.com/watch?v=9tPS-7TWjq0))\n",
    "- Pandas"
   ]
  },
  {
   "cell_type": "markdown",
   "id": "c65da2b3",
   "metadata": {},
   "source": [
    "### Step 1. Download Datasets\n",
    "\n",
    "#### Create destination folders"
   ]
  },
  {
   "cell_type": "code",
   "execution_count": 64,
   "id": "ddb572d4",
   "metadata": {},
   "outputs": [
    {
     "name": "stdout",
     "output_type": "stream",
     "text": [
      "E:\\code\\SpamDetector_FastAPI\\AI-as-an-API\\datasets\\zips\n"
     ]
    }
   ],
   "source": [
    "import pathlib\n",
    "import pandas as pd\n",
    "\n",
    "USE_PROJECT_ROOT = True\n",
    "BASE_DIR = pathlib.Path(\".\").resolve()\n",
    "if USE_PROJECT_ROOT:\n",
    "    BASE_DIR = BASE_DIR.parent.parent\n",
    "DATASET_DIR = BASE_DIR / \"datasets\"\n",
    "ZIPS_DIR = DATASET_DIR / 'zips'\n",
    "EXPORT_DIR = DATASET_DIR / \"exports\"\n",
    "SMS_SPAM_DIR = DATASET_DIR / 'imports' / 'sms-spam'\n",
    "YOUTUBE_SPAM_DIR = DATASET_DIR / 'imports' / 'youtube-spam'\n",
    "SMS2_SPAM_DIR = DATASET_DIR / 'imports' / 'sms-spam-2'\n",
    "LATIH_SPAM_DIR = DATASET_DIR / 'imports' / 'spam-latih'\n",
    "\n",
    "\n",
    "print(ZIPS_DIR)"
   ]
  },
  {
   "cell_type": "code",
   "execution_count": 65,
   "id": "62a43814",
   "metadata": {},
   "outputs": [],
   "source": [
    "ZIPS_DIR.mkdir(exist_ok=True, parents=True)\n",
    "\n",
    "EXPORT_DIR.mkdir(exist_ok=True, parents=True)\n",
    "\n",
    "SMS_SPAM_DIR.mkdir(exist_ok=True, parents=True)\n",
    "\n",
    "YOUTUBE_SPAM_DIR.mkdir(exist_ok=True, parents=True)\n",
    "\n",
    "SMS2_SPAM_DIR.mkdir(exist_ok=True, parents=True)\n",
    "\n",
    "LATIH_SPAM_DIR.mkdir(exist_ok=True, parents=True)"
   ]
  },
  {
   "cell_type": "markdown",
   "id": "23caa980",
   "metadata": {},
   "source": [
    "You could also create the directories using:\n",
    "\n",
    "```\n",
    "!mkdir -p $DATASET_DIR/zips/\n",
    "!mkdir -p $SMS_SPAM_DIR\n",
    "!mkdir -p $YOUTUBE_SPAM_DIR\n",
    "!mkdir -p $EXPORT_DIR\n",
    "```"
   ]
  },
  {
   "cell_type": "markdown",
   "id": "23c24fa8",
   "metadata": {},
   "source": [
    "#### UCI Spam SMS\n",
    "Source: https://archive.ics.uci.edu/ml/datasets/sms+spam+collection"
   ]
  },
  {
   "cell_type": "code",
   "execution_count": 66,
   "id": "2cab76d2",
   "metadata": {},
   "outputs": [
    {
     "name": "stderr",
     "output_type": "stream",
     "text": [
      "  % Total    % Received % Xferd  Average Speed   Time    Time     Time  Current\n",
      "                                 Dload  Upload   Total   Spent    Left  Speed\n",
      "\n",
      "  0     0    0     0    0     0      0      0 --:--:-- --:--:-- --:--:--     0\n",
      "  0     0    0     0    0     0      0      0 --:--:-- --:--:-- --:--:--     0\n",
      " 23  198k   23 47616    0     0  28552      0  0:00:07  0:00:01  0:00:06 28563\n",
      "100  198k  100  198k    0     0  91948      0  0:00:02  0:00:02 --:--:-- 92001\n"
     ]
    }
   ],
   "source": [
    "!curl https://archive.ics.uci.edu/ml/machine-learning-databases/00228/smsspamcollection.zip -o $ZIPS_DIR/uci-sms-spam.zip\n",
    "\n",
    "import zipfile\n",
    "with zipfile.ZipFile(ZIPS_DIR / \"uci-sms-spam.zip\") as zip_ref:\n",
    "  zip_ref.extractall(SMS_SPAM_DIR)\n",
    "\n",
    "!curl https: // archive.ics.uci.edu/ml/machine-learning-databases/00380/YouTube-Spam-Collection-v1.zip - o $ZIPS_DIR/uci-youtube-spam.zip\n",
    "\n",
    "with zipfile.ZipFile(ZIPS_DIR / \"uci-youtube-spam.zip\") as zip_ref:\n",
    "  zip_ref.extractall(YOUTUBE_SPAM_DIR)\n"
   ]
  },
  {
   "cell_type": "markdown",
   "id": "f763053c",
   "metadata": {},
   "source": [
    "#### YouTube Spam\n",
    "Source: https://archive.ics.uci.edu/ml/datasets/YouTube+Spam+Collection"
   ]
  },
  {
   "cell_type": "code",
   "execution_count": 67,
   "id": "56611f33",
   "metadata": {},
   "outputs": [
    {
     "name": "stderr",
     "output_type": "stream",
     "text": [
      "  % Total    % Received % Xferd  Average Speed   Time    Time     Time  Current\n",
      "                                 Dload  Upload   Total   Spent    Left  Speed\n",
      "\n",
      "  0     0    0     0    0     0      0      0 --:--:-- --:--:-- --:--:--     0\n",
      "  0     0    0     0    0     0      0      0 --:--:-- --:--:-- --:--:--     0\n",
      "  9  159k    9 15872    0     0  11801      0  0:00:13  0:00:01  0:00:12 11800\n",
      "100  159k  100  159k    0     0  76709      0  0:00:02  0:00:02 --:--:-- 76755\n"
     ]
    }
   ],
   "source": [
    "!curl https://archive.ics.uci.edu/ml/machine-learning-databases/00380/YouTube-Spam-Collection-v1.zip -o $ZIPS_DIR/uci-youtube-spam.zip\n",
    "\n",
    "import zipfile\n",
    "with zipfile.ZipFile(ZIPS_DIR / \"uci-youtube-spam.zip\") as zip_ref:\n",
    "  zip_ref.extractall(YOUTUBE_SPAM_DIR)"
   ]
  },
  {
   "cell_type": "markdown",
   "id": "ea852043",
   "metadata": {},
   "source": [
    "### Step 2. Load Datasets into a Pandas DataFrame"
   ]
  },
  {
   "cell_type": "code",
   "execution_count": 1,
   "id": "5fe0c240",
   "metadata": {},
   "outputs": [
    {
     "name": "stderr",
     "output_type": "stream",
     "text": [
      "The system cannot find the path specified.\n"
     ]
    },
    {
     "name": "stdout",
     "output_type": "stream",
     "text": [
      "c:\\Users\\AnakBaik\\AppData\\Local\\Programs\\Python\\Python39\\python.exe\n"
     ]
    },
    {
     "ename": "NameError",
     "evalue": "name 'SMS_SPAM_DIR' is not defined",
     "output_type": "error",
     "traceback": [
      "\u001b[1;31m---------------------------------------------------------------------------\u001b[0m",
      "\u001b[1;31mNameError\u001b[0m                                 Traceback (most recent call last)",
      "\u001b[1;32me:\\code\\SpamDetector_FastAPI\\AI-as-an-API\\guides\\spam-classifier\\1 - Prepare the AI Spam Classifier Dataset.ipynb Cell 11\u001b[0m in \u001b[0;36m<cell line: 7>\u001b[1;34m()\u001b[0m\n\u001b[0;32m      <a href='vscode-notebook-cell:/e%3A/code/SpamDetector_FastAPI/AI-as-an-API/guides/spam-classifier/1%20-%20Prepare%20the%20AI%20Spam%20Classifier%20Dataset.ipynb#X13sZmlsZQ%3D%3D?line=3'>4</a>\u001b[0m \u001b[39mprint\u001b[39m (sys\u001b[39m.\u001b[39mexecutable)\n\u001b[0;32m      <a href='vscode-notebook-cell:/e%3A/code/SpamDetector_FastAPI/AI-as-an-API/guides/spam-classifier/1%20-%20Prepare%20the%20AI%20Spam%20Classifier%20Dataset.ipynb#X13sZmlsZQ%3D%3D?line=4'>5</a>\u001b[0m \u001b[39mimport\u001b[39;00m \u001b[39mpandas\u001b[39;00m \u001b[39mas\u001b[39;00m \u001b[39mpd\u001b[39;00m\n\u001b[1;32m----> <a href='vscode-notebook-cell:/e%3A/code/SpamDetector_FastAPI/AI-as-an-API/guides/spam-classifier/1%20-%20Prepare%20the%20AI%20Spam%20Classifier%20Dataset.ipynb#X13sZmlsZQ%3D%3D?line=6'>7</a>\u001b[0m sms_path \u001b[39m=\u001b[39m SMS_SPAM_DIR \u001b[39m/\u001b[39m \u001b[39m'\u001b[39m\u001b[39mSMSSpamCollection\u001b[39m\u001b[39m'\u001b[39m\n\u001b[0;32m      <a href='vscode-notebook-cell:/e%3A/code/SpamDetector_FastAPI/AI-as-an-API/guides/spam-classifier/1%20-%20Prepare%20the%20AI%20Spam%20Classifier%20Dataset.ipynb#X13sZmlsZQ%3D%3D?line=7'>8</a>\u001b[0m sms_df \u001b[39m=\u001b[39m pd\u001b[39m.\u001b[39mread_csv(\u001b[39mstr\u001b[39m(sms_path), sep\u001b[39m=\u001b[39m\u001b[39m'\u001b[39m\u001b[39m\\t\u001b[39;00m\u001b[39m'\u001b[39m, header\u001b[39m=\u001b[39m\u001b[39mNone\u001b[39;00m)\n\u001b[0;32m     <a href='vscode-notebook-cell:/e%3A/code/SpamDetector_FastAPI/AI-as-an-API/guides/spam-classifier/1%20-%20Prepare%20the%20AI%20Spam%20Classifier%20Dataset.ipynb#X13sZmlsZQ%3D%3D?line=9'>10</a>\u001b[0m sms_df\u001b[39m.\u001b[39mcolumns \u001b[39m=\u001b[39m [\u001b[39m'\u001b[39m\u001b[39mlabel\u001b[39m\u001b[39m'\u001b[39m, \u001b[39m'\u001b[39m\u001b[39mtext\u001b[39m\u001b[39m'\u001b[39m]\n",
      "\u001b[1;31mNameError\u001b[0m: name 'SMS_SPAM_DIR' is not defined"
     ]
    }
   ],
   "source": [
    "! c:\\Users\\Acer\\Documents\\Visual-Studio\\MACHINE-LEARNING\\ai-api\\Scripts\\python.exe -m pip install pandas\n",
    "import sys\n",
    "\n",
    "print (sys.executable)\n",
    "import pandas as pd\n",
    "\n",
    "sms_path = SMS_SPAM_DIR / 'SMSSpamCollection'\n",
    "sms_df = pd.read_csv(str(sms_path), sep='\\t', header=None)\n",
    "\n",
    "sms_df.columns = ['label', 'text']\n",
    "sms_df['source'] = 'uci-spam-sms'\n",
    "\n",
    "location = YOUTUBE_SPAM_DIR\n",
    "csvs = list(location.glob(\"*.csv\"))\n",
    "\n",
    "new_dfs = []\n",
    "for csv in csvs:\n",
    "    csv_df = pd.read_csv(str(csvs[0]), usecols=['CLASS', 'CONTENT'])\n",
    "    csv_df.rename(columns={'CLASS': 'class', \"CONTENT\": 'text'}, inplace=True)\n",
    "    csv_df['label'] = csv_df['class'].apply(\n",
    "        lambda x: \"spam\" if str(x) == \"1\" else \"ham\")\n",
    "    sub_df = csv_df.copy()[['label', 'text']]\n",
    "    new_dfs.append(sub_df)\n",
    "\n",
    "yt_df = pd.concat(new_dfs)\n",
    "yt_df['source'] = 'uci-youtube-spam'\n",
    "\n",
    "location = SMS2_SPAM_DIR\n",
    "csvs = list(location.glob(\"*.csv\"))\n",
    "\n",
    "df = pd.concat([sms_df, yt_df])"
   ]
  },
  {
   "cell_type": "markdown",
   "id": "eb286608",
   "metadata": {},
   "source": [
    "**Load the `sms-spam` dataset into a pandas dataframe**"
   ]
  },
  {
   "cell_type": "code",
   "execution_count": 69,
   "id": "df42cf05",
   "metadata": {},
   "outputs": [],
   "source": [
    "sms_path = SMS_SPAM_DIR / 'SMSSpamCollection'\n",
    "sms_df = pd.read_csv(str(sms_path), sep='\\t', header=None)"
   ]
  },
  {
   "cell_type": "markdown",
   "id": "ee11944b",
   "metadata": {},
   "source": [
    "Now set the headers"
   ]
  },
  {
   "cell_type": "code",
   "execution_count": 70,
   "id": "5c7fe86e",
   "metadata": {},
   "outputs": [],
   "source": [
    "sms_df.columns = ['label', 'text']\n",
    "sms_df['source'] = 'uci-spam-sms'"
   ]
  },
  {
   "cell_type": "markdown",
   "id": "0f273129",
   "metadata": {},
   "source": [
    "**Load the `youtube-spam` datasets into a pandas dataframe**\n",
    "\n",
    "The youtube-spam dataset is stored across multiple csvs. Let's combine them into 1 big file."
   ]
  },
  {
   "cell_type": "code",
   "execution_count": 71,
   "id": "f082c1b0",
   "metadata": {},
   "outputs": [],
   "source": [
    "location = YOUTUBE_SPAM_DIR\n",
    "csvs = list(location.glob(\"*.csv\"))"
   ]
  },
  {
   "cell_type": "code",
   "execution_count": 72,
   "id": "e9a3ef2b",
   "metadata": {},
   "outputs": [],
   "source": [
    "new_dfs = []\n",
    "for csv in csvs:\n",
    "    csv_df = pd.read_csv(str(csvs[0]), usecols=['CLASS', 'CONTENT'])\n",
    "    csv_df.rename(columns={'CLASS': 'class', \"CONTENT\": 'text'}, inplace=True)\n",
    "    csv_df['label'] = csv_df['class'].apply(lambda x: \"spam\" if str(x) == \"1\" else \"ham\")\n",
    "    sub_df = csv_df.copy()[['label', 'text']] \n",
    "    new_dfs.append(sub_df)\n",
    "\n",
    "yt_df = pd.concat(new_dfs)\n",
    "yt_df['source'] = 'uci-youtube-spam'"
   ]
  },
  {
   "cell_type": "code",
   "execution_count": 73,
   "id": "894a08d2",
   "metadata": {},
   "outputs": [],
   "source": [
    "location = SMS2_SPAM_DIR\n",
    "csvs = list(location.glob(\"*.csv\"))"
   ]
  },
  {
   "cell_type": "code",
   "execution_count": 74,
   "id": "8bb7ffa8",
   "metadata": {},
   "outputs": [],
   "source": [
    "new_dfs = []\n",
    "for csv in csvs:\n",
    "    csv_df = pd.read_csv(str(csvs[0]), usecols=['label', 'Teks'])\n",
    "    csv_df.rename(columns={'label': 'class', \"teks\": 'text'}, inplace=True)\n",
    "    csv_df['label'] = csv_df['class'].apply(lambda x: \"spam\" if str(x) == \"penipuan\" else \"ham\")\n",
    "    sub_df = csv_df.copy()[['label', 'Teks']] \n",
    "    new_dfs.append(sub_df)\n",
    "sms2_df = pd.concat(new_dfs)"
   ]
  },
  {
   "cell_type": "code",
   "execution_count": 75,
   "id": "280cf15d",
   "metadata": {},
   "outputs": [],
   "source": [
    "location = LATIH_SPAM_DIR\n",
    "csvs = list(location.glob(\"*.csv\"))"
   ]
  },
  {
   "cell_type": "markdown",
   "id": "b9882000",
   "metadata": {},
   "source": [
    "**Combine the `sms-spam` dataset and the `youtube-spam` dataset**"
   ]
  },
  {
   "cell_type": "code",
   "execution_count": 76,
   "id": "85b5dd05",
   "metadata": {},
   "outputs": [],
   "source": [
    "df = pd.concat([sms_df, yt_df])"
   ]
  },
  {
   "cell_type": "markdown",
   "id": "9099fea6",
   "metadata": {},
   "source": [
    "### Step 3. Export Complete Dataset"
   ]
  },
  {
   "cell_type": "code",
   "execution_count": 77,
   "id": "855f313f",
   "metadata": {},
   "outputs": [],
   "source": [
    "df = pd.concat([sms_df, yt_df])\n",
    "df.to_csv(EXPORT_DIR / 'spam-dataset.csv', index=False)"
   ]
  }
 ],
 "metadata": {
  "kernelspec": {
   "display_name": "Python 3.9.7 64-bit",
   "language": "python",
   "name": "python3"
  },
  "language_info": {
   "codemirror_mode": {
    "name": "ipython",
    "version": 3
   },
   "file_extension": ".py",
   "mimetype": "text/x-python",
   "name": "python",
   "nbconvert_exporter": "python",
   "pygments_lexer": "ipython3",
   "version": "3.9.7"
  },
  "vscode": {
   "interpreter": {
    "hash": "ddfdf594ba9a79254fea4f0924333c3a65ec83b594e8d5d620f52e757759613f"
   }
  }
 },
 "nbformat": 4,
 "nbformat_minor": 5
}
