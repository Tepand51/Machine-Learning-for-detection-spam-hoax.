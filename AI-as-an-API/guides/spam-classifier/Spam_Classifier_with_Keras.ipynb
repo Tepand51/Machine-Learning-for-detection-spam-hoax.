{
 "cells": [
  {
   "cell_type": "markdown",
   "metadata": {
    "id": "o53USBMWhsEU"
   },
   "source": [
    "# Build a Spam Classifier with Keras\n",
    "With deep learning and AI, handling spam content has gotten easier and easier. Over time (and with the aid of direct user feedback) our spam classifier will rarely produce erroneous results. \n",
    "\n",
    "This is the first part of a multi-part series covering how to:\n",
    "\n",
    "- Build an AI Model (this one)\n",
    "- Integrate a NoSQL Database (inference result storing)\n",
    "- Deploy an AI Model into Production\n",
    "\n",
    "### Prerequisites\n",
    "- Prepare your dataset using [this notebook](https://github.com/codingforentrepreneurs/AI-as-an-API/blob/main/guides/spam-classifier/1%20-%20Prepare%20the%20AI%20Spam%20Classifier%20Dataset.ipynb) .\n",
    "- Convert your dataset into trainable vectors in [this notebook](https://github.com/codingforentrepreneurs/AI-as-an-API/blob/main/guides/spam-classifier/2%20-%20Convert%20Dataset%20into%20Vectors.ipynb) (Either way, this notebook will run this step for us).\n",
    "\n",
    "\n",
    "### Running this notebook:\n",
    "- Recommended: Use [Colab](https://colab.research.google.com/github/codingforentrepreneurs/AI-as-an-API/blob/main/guides/spam-classifier/Spam_Classifier_with_Keras.ipynb) as it offers free GPUs for training models. [Launch this notebook here]([Colab](https://colab.research.google.com/github/codingforentrepreneurs/AI-as-an-API/blob/main/guides/spam-classifier/Spam_Classifier_with_Keras.ipynb))\n",
    "- Fork [the AI as an API repo](https://github.com/codingforentrepreneurs/AI-as-an-API) and run `guides/spam-classifier/Spam_Classifier_with_Keras.ipynb` whenever you'd like.\n",
    "\n",
    "This notebook is brought to in you in partnership with [DataStax](https://dtsx.io/3nRWZEG)."
   ]
  },
  {
   "cell_type": "code",
   "execution_count": 1,
   "metadata": {
    "id": "sLgfRoHiy0NG"
   },
   "outputs": [
    {
     "name": "stderr",
     "output_type": "stream",
     "text": [
      "The system cannot find the path specified.\n"
     ]
    }
   ],
   "source": [
    "!c:\\Users\\Acer\\Documents\\Visual-Studio\\MACHINE-LEARNING\\ai-api\\Scripts\\python.exe -m pip install boto3\n",
    "# !pip install pandas tensorflow"
   ]
  },
  {
   "cell_type": "code",
   "execution_count": 2,
   "metadata": {
    "id": "IJqrnVLmTxfG"
   },
   "outputs": [],
   "source": [
    "import boto3\n",
    "import os\n",
    "import pathlib\n",
    "import pandas as pd\n",
    "import pickle"
   ]
  },
  {
   "cell_type": "code",
   "execution_count": 3,
   "metadata": {
    "id": "0BSsnKlpU_pB"
   },
   "outputs": [],
   "source": [
    "from tensorflow.keras.layers import Dense, Input\n",
    "from tensorflow.keras.layers import Conv1D, MaxPooling1D, Embedding, LSTM, SpatialDropout1D\n",
    "from tensorflow.keras.models import Model, Sequential\n",
    "\n",
    "from tensorflow.keras.preprocessing.text import Tokenizer\n",
    "from tensorflow.keras.preprocessing.sequence import pad_sequences\n",
    "\n",
    "data = {}\n",
    "\n",
    "with open(TRAINING_DATA_PATH, 'rb') as f:\n",
    "    data = pickle.load(f)\n"
   ]
  },
  {
   "cell_type": "code",
   "execution_count": 4,
   "metadata": {
    "id": "RVD_ZKwBOYSq"
   },
   "outputs": [
    {
     "name": "stdout",
     "output_type": "stream",
     "text": [
      "E:\\guides\\spam-classifier\\2\\ -\\ Convert\\ Dataset\\ into\\ Vectors.ipynb\n"
     ]
    }
   ],
   "source": [
    "BASE_DIR = pathlib.Path(os.path.abspath('')).resolve().parent.parent\n",
    "\n",
    "EXPORT_DIR = BASE_DIR / \"datasets/exports/\"\n",
    "GUIDES_DIR = BASE_DIR / \"/guides/spam-classifier/\"\n",
    "DATASET_CSV_PATH = EXPORT_DIR / 'spam-dataset.csv'\n",
    "TRAINING_DATA_PATH = EXPORT_DIR / 'spam-training-data.pkl'\n",
    "PART_TWO_GUIDE_PATH = GUIDES_DIR / '2\\ -\\ Convert\\ Dataset\\ into\\ Vectors.ipynb'"
   ]
  },
  {
   "cell_type": "markdown",
   "metadata": {
    "id": "vZPDBgY4cApj"
   },
   "source": [
    "## Prepare Dataset\n",
    "\n",
    "Creating a dataset rarely happens next to where you run the training. The below cells are a method for us to extract the needed data to perform training against."
   ]
  },
  {
   "cell_type": "code",
   "execution_count": 5,
   "metadata": {
    "colab": {
     "base_uri": "https://localhost:8080/"
    },
    "id": "a1_igE41T2GD",
    "outputId": "9934198d-6540-4e8a-ace4-b3717b3831e8"
   },
   "outputs": [
    {
     "name": "stderr",
     "output_type": "stream",
     "text": [
      "A subdirectory or file -p already exists.\n",
      "Error occurred while processing: -p.\n",
      "A subdirectory or file E:\\code\\SpamDetector_FastAPI\\AI-as-an-API\\datasets\\exports already exists.\n",
      "Error occurred while processing: E:\\code\\SpamDetector_FastAPI\\AI-as-an-API\\datasets\\exports.\n",
      "A subdirectory or file -p already exists.\n",
      "Error occurred while processing: -p.\n",
      "A subdirectory or file E:\\guides\\spam-classifier already exists.\n",
      "Error occurred while processing: E:\\guides\\spam-classifier.\n",
      "  % Total    % Received % Xferd  Average Speed   Time    Time     Time  Current\n",
      "                                 Dload  Upload   Total   Spent    Left  Speed\n",
      "\n",
      "  0     0    0     0    0     0      0      0 --:--:-- --:--:-- --:--:--     0\n",
      " 64  729k   64  472k    0     0   616k      0  0:00:01 --:--:--  0:00:01  616k\n",
      "100  729k  100  729k    0     0   861k      0 --:--:-- --:--:-- --:--:--  861k\n",
      "  % Total    % Received % Xferd  Average Speed   Time    Time     Time  Current\n",
      "                                 Dload  Upload   Total   Spent    Left  Speed\n",
      "\n",
      "  0     0    0     0    0     0      0      0 --:--:-- --:--:-- --:--:--     0Warning: Failed to open the file E:\\guides\\spam-classifier\\2\\ -\\ Convert\\ \n",
      "Warning: Dataset\\ into\\ Vectors.ipynb: No such file or directory\n",
      "\n",
      "  8 15408    8  1371    0     0   2112      0  0:00:07 --:--:--  0:00:07  2119\n",
      "curl: (23) Failure writing output to destination\n"
     ]
    }
   ],
   "source": [
    "!mkdir -p \"$EXPORT_DIR\"\n",
    "!mkdir -p \"$GUIDES_DIR\"\n",
    "!curl \"https://raw.githubusercontent.com/codingforentrepreneurs/AI-as-an-API/main/datasets/exports/spam-dataset.csv\" -o \"$DATASET_CSV_PATH\"\n",
    "!curl \"https://raw.githubusercontent.com/codingforentrepreneurs/AI-as-an-API/main/guides/spam-classifier/2%20-%20Convert%20Dataset%20into%20Vectors.ipynb\" -o \"$PART_TWO_GUIDE_PATH\""
   ]
  },
  {
   "cell_type": "markdown",
   "metadata": {
    "id": "2RYybCsJczqn"
   },
   "source": [
    "Let's review our extracted dataset which combines two different spam datasets as outlined in [this notebook](https://github.com/codingforentrepreneurs/AI-as-an-API/blob/main/guides/spam-classifier/1%20-%20Prepare%20the%20AI%20Spam%20Classifier%20Dataset.ipynb)."
   ]
  },
  {
   "cell_type": "code",
   "execution_count": 6,
   "metadata": {
    "colab": {
     "base_uri": "https://localhost:8080/",
     "height": 206
    },
    "id": "OBbbRHAITzq0",
    "outputId": "eda8417c-82be-41d7-9004-7b38e78c1a26"
   },
   "outputs": [
    {
     "data": {
      "text/html": [
       "<div>\n",
       "<style scoped>\n",
       "    .dataframe tbody tr th:only-of-type {\n",
       "        vertical-align: middle;\n",
       "    }\n",
       "\n",
       "    .dataframe tbody tr th {\n",
       "        vertical-align: top;\n",
       "    }\n",
       "\n",
       "    .dataframe thead th {\n",
       "        text-align: right;\n",
       "    }\n",
       "</style>\n",
       "<table border=\"1\" class=\"dataframe\">\n",
       "  <thead>\n",
       "    <tr style=\"text-align: right;\">\n",
       "      <th></th>\n",
       "      <th>label</th>\n",
       "      <th>text</th>\n",
       "      <th>source</th>\n",
       "    </tr>\n",
       "  </thead>\n",
       "  <tbody>\n",
       "    <tr>\n",
       "      <th>0</th>\n",
       "      <td>ham</td>\n",
       "      <td>Go until jurong point, crazy.. Available only ...</td>\n",
       "      <td>uci-spam-sms</td>\n",
       "    </tr>\n",
       "    <tr>\n",
       "      <th>1</th>\n",
       "      <td>ham</td>\n",
       "      <td>Ok lar... Joking wif u oni...</td>\n",
       "      <td>uci-spam-sms</td>\n",
       "    </tr>\n",
       "    <tr>\n",
       "      <th>2</th>\n",
       "      <td>spam</td>\n",
       "      <td>Free entry in 2 a wkly comp to win FA Cup fina...</td>\n",
       "      <td>uci-spam-sms</td>\n",
       "    </tr>\n",
       "    <tr>\n",
       "      <th>3</th>\n",
       "      <td>ham</td>\n",
       "      <td>U dun say so early hor... U c already then say...</td>\n",
       "      <td>uci-spam-sms</td>\n",
       "    </tr>\n",
       "    <tr>\n",
       "      <th>4</th>\n",
       "      <td>ham</td>\n",
       "      <td>Nah I don't think he goes to usf, he lives aro...</td>\n",
       "      <td>uci-spam-sms</td>\n",
       "    </tr>\n",
       "  </tbody>\n",
       "</table>\n",
       "</div>"
      ],
      "text/plain": [
       "  label                                               text        source\n",
       "0   ham  Go until jurong point, crazy.. Available only ...  uci-spam-sms\n",
       "1   ham                      Ok lar... Joking wif u oni...  uci-spam-sms\n",
       "2  spam  Free entry in 2 a wkly comp to win FA Cup fina...  uci-spam-sms\n",
       "3   ham  U dun say so early hor... U c already then say...  uci-spam-sms\n",
       "4   ham  Nah I don't think he goes to usf, he lives aro...  uci-spam-sms"
      ]
     },
     "execution_count": 6,
     "metadata": {},
     "output_type": "execute_result"
    }
   ],
   "source": [
    "df = pd.read_csv(DATASET_CSV_PATH)\n",
    "df.head()"
   ]
  },
  {
   "cell_type": "markdown",
   "metadata": {
    "id": "W60Gz74_dB4j"
   },
   "source": [
    "Extract prepared training dataset results."
   ]
  },
  {
   "cell_type": "code",
   "execution_count": 7,
   "metadata": {
    "id": "h2ABatrpKmW6"
   },
   "outputs": [],
   "source": [
    "data = {}\n",
    "\n",
    "with open(TRAINING_DATA_PATH, 'rb') as f:\n",
    "    data = pickle.load(f)"
   ]
  },
  {
   "cell_type": "markdown",
   "metadata": {
    "id": "PVcF78xedHkb"
   },
   "source": [
    "> While the above code uses `pickle` to load in data, this data is actually exported via `pickle` when we execute the `%run` only a few steps ago. Since `pickle` can be unsafe to use from third-party downloaded data, we actually generate (again using `%run`) this pickle data and therefore is safe to use -- it's never downloaded."
   ]
  },
  {
   "cell_type": "markdown",
   "metadata": {
    "id": "47BJJRESdpV5"
   },
   "source": [
    "## Transform Extracted Dataset"
   ]
  },
  {
   "cell_type": "code",
   "execution_count": 8,
   "metadata": {
    "id": "-SPvQSPlPFuo"
   },
   "outputs": [],
   "source": [
    "X_test = data['X_test']\n",
    "X_train = data['X_train']\n",
    "y_test = data['y_test']\n",
    "y_train = data['y_train']\n",
    "labels_legend_inverted = data['labels_legend_inverted']\n",
    "legend = data['legend']\n",
    "max_sequence = data['max_sequence']\n",
    "max_words = data['max_words']\n",
    "tokenizer = data['tokenizer']"
   ]
  },
  {
   "cell_type": "markdown",
   "metadata": {
    "id": "A9S87BLRdvmo"
   },
   "source": [
    "## Create our LSTM Model"
   ]
  },
  {
   "cell_type": "code",
   "execution_count": 9,
   "metadata": {
    "colab": {
     "base_uri": "https://localhost:8080/"
    },
    "id": "9ScyC-JIU81a",
    "outputId": "e6c9ce7e-0dcd-4238-c766-e840ed191a8a"
   },
   "outputs": [
    {
     "name": "stdout",
     "output_type": "stream",
     "text": [
      "Model: \"sequential\"\n",
      "_________________________________________________________________\n",
      " Layer (type)                Output Shape              Param #   \n",
      "=================================================================\n",
      " embedding (Embedding)       (None, 280, 128)          35840     \n",
      "                                                                 \n",
      " spatial_dropout1d (SpatialD  (None, 280, 128)         0         \n",
      " ropout1D)                                                       \n",
      "                                                                 \n",
      " lstm (LSTM)                 (None, 196)               254800    \n",
      "                                                                 \n",
      " dense (Dense)               (None, 2)                 394       \n",
      "                                                                 \n",
      "=================================================================\n",
      "Total params: 291,034\n",
      "Trainable params: 291,034\n",
      "Non-trainable params: 0\n",
      "_________________________________________________________________\n",
      "None\n"
     ]
    }
   ],
   "source": [
    "embed_dim = 128\n",
    "lstm_out = 196\n",
    "MAX_NUM_WORDS=280\n",
    "\n",
    "model = Sequential()\n",
    "model.add(Embedding(MAX_NUM_WORDS, embed_dim, input_length=X_train.shape[1]))\n",
    "model.add(SpatialDropout1D(0.4))\n",
    "model.add(LSTM(lstm_out, dropout=0.3, recurrent_dropout=0.3))\n",
    "model.add(Dense(2, activation='softmax'))\n",
    "model.compile(loss='categorical_crossentropy', optimizer=\"adam\", metrics=['accuracy'])\n",
    "\n",
    "batch_size = 32\n",
    "epochs = 5\n",
    "model.fit(X_train, y_train, validation_data=(X_test, y_test),\n",
    "          batch_size=batch_size, verbose=1, epochs=epochs)\n",
    "\n",
    "MODEL_EXPORT_PATH = EXPORT_DIR / 'spam-model.h5'\n",
    "model.save(str(MODEL_EXPORT_PATH))"
   ]
  },
  {
   "cell_type": "code",
   "execution_count": 10,
   "metadata": {
    "colab": {
     "base_uri": "https://localhost:8080/"
    },
    "id": "liwS1atYVzj0",
    "outputId": "4f7cfdad-1141-4248-c60c-73ee69e4c3d6"
   },
   "outputs": [
    {
     "name": "stdout",
     "output_type": "stream",
     "text": [
      "Epoch 1/5\n",
      "154/154 [==============================] - 220s 1s/step - loss: 0.2731 - accuracy: 0.8924 - val_loss: 0.1422 - val_accuracy: 0.9553\n",
      "Epoch 2/5\n",
      "154/154 [==============================] - 229s 1s/step - loss: 0.1115 - accuracy: 0.9596 - val_loss: 0.1058 - val_accuracy: 0.9661\n",
      "Epoch 3/5\n",
      "154/154 [==============================] - 231s 1s/step - loss: 0.0891 - accuracy: 0.9698 - val_loss: 0.0918 - val_accuracy: 0.9719\n",
      "Epoch 4/5\n",
      "154/154 [==============================] - 232s 2s/step - loss: 0.0815 - accuracy: 0.9741 - val_loss: 0.0950 - val_accuracy: 0.9698\n",
      "Epoch 5/5\n",
      "154/154 [==============================] - 230s 1s/step - loss: 0.0715 - accuracy: 0.9772 - val_loss: 0.0977 - val_accuracy: 0.9698\n"
     ]
    },
    {
     "data": {
      "text/plain": [
       "<keras.callbacks.History at 0x172ffdb9ac0>"
      ]
     },
     "execution_count": 10,
     "metadata": {},
     "output_type": "execute_result"
    }
   ],
   "source": [
    "batch_size = 32\n",
    "epochs = 5\n",
    "model.fit(X_train, y_train, validation_data=(X_test, y_test), batch_size=batch_size, verbose=1, epochs=epochs)"
   ]
  },
  {
   "cell_type": "code",
   "execution_count": 11,
   "metadata": {
    "id": "2VPFG3ZSV3Pr"
   },
   "outputs": [],
   "source": [
    "MODEL_EXPORT_PATH = EXPORT_DIR / 'spam-model.h5'\n",
    "model.save(str(MODEL_EXPORT_PATH))"
   ]
  },
  {
   "cell_type": "markdown",
   "metadata": {
    "id": "Ha2sP2r0ebDi"
   },
   "source": [
    "## Predict new data"
   ]
  },
  {
   "cell_type": "code",
   "execution_count": 12,
   "metadata": {
    "id": "Gfbt6BQoV6_k"
   },
   "outputs": [],
   "source": [
    "import numpy as np\n",
    "\n",
    "def predict(text_str, max_words=280, max_sequence = 280, tokenizer=None):\n",
    "  if not tokenizer:\n",
    "    return None\n",
    "  sequences = tokenizer.texts_to_sequences([text_str])\n",
    "  x_input = pad_sequences(sequences, maxlen=max_sequence)\n",
    "  y_output = model.predict(x_input)\n",
    "  top_y_index = np.argmax(y_output)\n",
    "  preds = y_output[top_y_index]\n",
    "  labeled_preds = [{f\"{labels_legend_inverted[str(i)]}\": x} for i, x in enumerate(preds)]\n",
    "  return labeled_preds"
   ]
  },
  {
   "cell_type": "code",
   "execution_count": 13,
   "metadata": {
    "colab": {
     "base_uri": "https://localhost:8080/"
    },
    "id": "t_Yy6wdXe7R6",
    "outputId": "b99e282c-de14-4f3c-c0ee-0aac1b09ee26"
   },
   "outputs": [
    {
     "name": "stdout",
     "output_type": "stream",
     "text": [
      "1/1 [==============================] - 1s 725ms/step\n"
     ]
    },
    {
     "data": {
      "text/plain": [
       "[{'ham': 0.9938113}, {'spam': 0.006188751}]"
      ]
     },
     "execution_count": 13,
     "metadata": {},
     "output_type": "execute_result"
    }
   ],
   "source": [
    "predict(\"Hello world\", max_words=max_words, max_sequence=max_sequence, tokenizer=tokenizer)"
   ]
  },
  {
   "cell_type": "markdown",
   "metadata": {
    "id": "WexqrUW1m9IK"
   },
   "source": [
    "## Exporting Tokenizer & Metadata"
   ]
  },
  {
   "cell_type": "code",
   "execution_count": 14,
   "metadata": {
    "colab": {
     "base_uri": "https://localhost:8080/"
    },
    "id": "cpQqUbFvm3CU",
    "outputId": "0fb03c88-281a-488d-d1a2-65701245db05"
   },
   "outputs": [
    {
     "data": {
      "text/plain": [
       "187"
      ]
     },
     "execution_count": 14,
     "metadata": {},
     "output_type": "execute_result"
    }
   ],
   "source": [
    "import json\n",
    "metadata = {\n",
    "    \"labels_legend_inverted\": labels_legend_inverted,\n",
    "    \"legend\": legend,\n",
    "    \"max_sequence\": max_sequence,\n",
    "    \"max_words\": max_words,\n",
    "}\n",
    "\n",
    "METADATA_EXPORT_PATH = EXPORT_DIR / 'spam-classifer-metadata.json'\n",
    "METADATA_EXPORT_PATH.write_text(json.dumps(metadata, indent=4))"
   ]
  },
  {
   "cell_type": "code",
   "execution_count": 15,
   "metadata": {
    "colab": {
     "base_uri": "https://localhost:8080/"
    },
    "id": "FU8LwhYHniqu",
    "outputId": "8dfe2b7a-c868-4932-b300-62a37074b98e"
   },
   "outputs": [
    {
     "data": {
      "text/plain": [
       "828992"
      ]
     },
     "execution_count": 15,
     "metadata": {},
     "output_type": "execute_result"
    }
   ],
   "source": [
    "tokenizer_as_json = tokenizer.to_json()\n",
    "\n",
    "TOKENIZER_EXPORT_PATH = EXPORT_DIR / 'spam-classifer-tokenizer.json'\n",
    "TOKENIZER_EXPORT_PATH.write_text(tokenizer_as_json)"
   ]
  }
 ],
 "metadata": {
  "accelerator": "GPU",
  "colab": {
   "collapsed_sections": [],
   "name": "Spam Classifier with Keras.ipynb",
   "provenance": []
  },
  "kernelspec": {
   "display_name": "Python 3.9.7 ('.venv': venv)",
   "language": "python",
   "name": "python3"
  },
  "language_info": {
   "codemirror_mode": {
    "name": "ipython",
    "version": 3
   },
   "file_extension": ".py",
   "mimetype": "text/x-python",
   "name": "python",
   "nbconvert_exporter": "python",
   "pygments_lexer": "ipython3",
   "version": "3.9.7"
  },
  "vscode": {
   "interpreter": {
    "hash": "eed96b006927a713996fdaa5880abc9e1be461c908ad8468a15439667a055f5d"
   }
  }
 },
 "nbformat": 4,
 "nbformat_minor": 1
}
